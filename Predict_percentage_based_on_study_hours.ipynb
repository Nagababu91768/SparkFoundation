{
  "nbformat": 4,
  "nbformat_minor": 0,
  "metadata": {
    "colab": {
      "name": "Predict percentage based on study hours.ipynb",
      "provenance": [],
      "authorship_tag": "ABX9TyOBW4ynKLT1djwLhCdU8fPr",
      "include_colab_link": true
    },
    "kernelspec": {
      "name": "python3",
      "display_name": "Python 3"
    },
    "language_info": {
      "name": "python"
    }
  },
  "cells": [
    {
      "cell_type": "markdown",
      "metadata": {
        "id": "view-in-github",
        "colab_type": "text"
      },
      "source": [
        "<a href=\"https://colab.research.google.com/github/Nagababu91768/SparkFoundation/blob/master/Predict_percentage_based_on_study_hours.ipynb\" target=\"_parent\"><img src=\"https://colab.research.google.com/assets/colab-badge.svg\" alt=\"Open In Colab\"/></a>"
      ]
    },
    {
      "cell_type": "markdown",
      "source": [
        "## <font color=\"magenta\"> Author Name : U. Nagababu </font>\n",
        "## <font color=\"green\">Domain :</font> Data Science and Business Analyst\n",
        "## <font color=\"green\">Task :</font> Predict the percentage of an student based on the no.of study hours.\n",
        "## <font color=\"green\">Language :</font> Python\n",
        "## <font color=\"green\">Excepted Results : </font>Predict the percentage based on study hours (Ex: 9.25) \n",
        "## <font color=\"green\">Algorithm :</font> Supervised Linear Regression \n",
        "## <font color=\"green\">features :</font> single feature (hours ) \n",
        "## <font color=\"green\">Target : </font> scores"
      ],
      "metadata": {
        "id": "XGy_tiqG50rv"
      }
    },
    {
      "cell_type": "markdown",
      "source": [
        "#- <font color=\"brown\">1.Lets start the import required libraries</font>"
      ],
      "metadata": {
        "id": "6ft_WPIi7_yA"
      }
    },
    {
      "cell_type": "code",
      "source": [
        "import pandas as pd\n",
        "import numpy as np\n",
        "from sklearn.linear_model import LinearRegression\n",
        "import seaborn as sns\n",
        "import matplotlib.pyplot as plt\n",
        "import warnings\n",
        "warnings.filterwarnings('ignore')"
      ],
      "metadata": {
        "id": "LB1BF3bH7yZ_"
      },
      "execution_count": 2,
      "outputs": []
    },
    {
      "cell_type": "markdown",
      "source": [
        "### <font color=\"purple\">1.1 Read Dataset (Extension as csv the we use the read_csv in pandas)</font>"
      ],
      "metadata": {
        "id": "txFdRzL687Sl"
      }
    },
    {
      "cell_type": "code",
      "source": [
        "df=pd.read_csv('/content/sample_data/student_scores - student_scores.csv')"
      ],
      "metadata": {
        "id": "yoGg8p5i8mwW"
      },
      "execution_count": 3,
      "outputs": []
    },
    {
      "cell_type": "markdown",
      "source": [
        "### <font color=\"purple\">1.2 Information about dataset</font>"
      ],
      "metadata": {
        "id": "fTqd7vpfCtsF"
      }
    },
    {
      "cell_type": "code",
      "source": [
        "df.info()"
      ],
      "metadata": {
        "colab": {
          "base_uri": "https://localhost:8080/"
        },
        "id": "OlK2WNZWC06U",
        "outputId": "dcc1846f-054a-47c1-967b-1230bc827db4"
      },
      "execution_count": 4,
      "outputs": [
        {
          "output_type": "stream",
          "name": "stdout",
          "text": [
            "<class 'pandas.core.frame.DataFrame'>\n",
            "RangeIndex: 25 entries, 0 to 24\n",
            "Data columns (total 2 columns):\n",
            " #   Column  Non-Null Count  Dtype  \n",
            "---  ------  --------------  -----  \n",
            " 0   Hours   25 non-null     float64\n",
            " 1   Scores  25 non-null     int64  \n",
            "dtypes: float64(1), int64(1)\n",
            "memory usage: 528.0 bytes\n"
          ]
        }
      ]
    },
    {
      "cell_type": "markdown",
      "source": [
        "### <font color=\"purple\">1.3 checking dataset have any missing values</font>"
      ],
      "metadata": {
        "id": "gW4CznW8C41W"
      }
    },
    {
      "cell_type": "code",
      "source": [
        "df.isnull().sum()"
      ],
      "metadata": {
        "colab": {
          "base_uri": "https://localhost:8080/"
        },
        "id": "_dAphnInDBhB",
        "outputId": "42f30e63-a7b8-4fc8-cd8c-12f634cfe388"
      },
      "execution_count": 5,
      "outputs": [
        {
          "output_type": "execute_result",
          "data": {
            "text/plain": [
              "Hours     0\n",
              "Scores    0\n",
              "dtype: int64"
            ]
          },
          "metadata": {},
          "execution_count": 5
        }
      ]
    },
    {
      "cell_type": "markdown",
      "source": [
        "### <font color=\"purple\">1.4 Describe the dataset</font>"
      ],
      "metadata": {
        "id": "fHa5RdtF98P6"
      }
    },
    {
      "cell_type": "code",
      "source": [
        "df.describe()"
      ],
      "metadata": {
        "colab": {
          "base_uri": "https://localhost:8080/",
          "height": 300
        },
        "id": "YmMj8bJ_8Zzk",
        "outputId": "8f870ea3-83af-4062-8d33-eb476bdc83d5"
      },
      "execution_count": 6,
      "outputs": [
        {
          "output_type": "execute_result",
          "data": {
            "text/html": [
              "\n",
              "  <div id=\"df-86307560-ca31-4bef-8f41-dea7e3699996\">\n",
              "    <div class=\"colab-df-container\">\n",
              "      <div>\n",
              "<style scoped>\n",
              "    .dataframe tbody tr th:only-of-type {\n",
              "        vertical-align: middle;\n",
              "    }\n",
              "\n",
              "    .dataframe tbody tr th {\n",
              "        vertical-align: top;\n",
              "    }\n",
              "\n",
              "    .dataframe thead th {\n",
              "        text-align: right;\n",
              "    }\n",
              "</style>\n",
              "<table border=\"1\" class=\"dataframe\">\n",
              "  <thead>\n",
              "    <tr style=\"text-align: right;\">\n",
              "      <th></th>\n",
              "      <th>Hours</th>\n",
              "      <th>Scores</th>\n",
              "    </tr>\n",
              "  </thead>\n",
              "  <tbody>\n",
              "    <tr>\n",
              "      <th>count</th>\n",
              "      <td>25.000000</td>\n",
              "      <td>25.000000</td>\n",
              "    </tr>\n",
              "    <tr>\n",
              "      <th>mean</th>\n",
              "      <td>5.012000</td>\n",
              "      <td>51.480000</td>\n",
              "    </tr>\n",
              "    <tr>\n",
              "      <th>std</th>\n",
              "      <td>2.525094</td>\n",
              "      <td>25.286887</td>\n",
              "    </tr>\n",
              "    <tr>\n",
              "      <th>min</th>\n",
              "      <td>1.100000</td>\n",
              "      <td>17.000000</td>\n",
              "    </tr>\n",
              "    <tr>\n",
              "      <th>25%</th>\n",
              "      <td>2.700000</td>\n",
              "      <td>30.000000</td>\n",
              "    </tr>\n",
              "    <tr>\n",
              "      <th>50%</th>\n",
              "      <td>4.800000</td>\n",
              "      <td>47.000000</td>\n",
              "    </tr>\n",
              "    <tr>\n",
              "      <th>75%</th>\n",
              "      <td>7.400000</td>\n",
              "      <td>75.000000</td>\n",
              "    </tr>\n",
              "    <tr>\n",
              "      <th>max</th>\n",
              "      <td>9.200000</td>\n",
              "      <td>95.000000</td>\n",
              "    </tr>\n",
              "  </tbody>\n",
              "</table>\n",
              "</div>\n",
              "      <button class=\"colab-df-convert\" onclick=\"convertToInteractive('df-86307560-ca31-4bef-8f41-dea7e3699996')\"\n",
              "              title=\"Convert this dataframe to an interactive table.\"\n",
              "              style=\"display:none;\">\n",
              "        \n",
              "  <svg xmlns=\"http://www.w3.org/2000/svg\" height=\"24px\"viewBox=\"0 0 24 24\"\n",
              "       width=\"24px\">\n",
              "    <path d=\"M0 0h24v24H0V0z\" fill=\"none\"/>\n",
              "    <path d=\"M18.56 5.44l.94 2.06.94-2.06 2.06-.94-2.06-.94-.94-2.06-.94 2.06-2.06.94zm-11 1L8.5 8.5l.94-2.06 2.06-.94-2.06-.94L8.5 2.5l-.94 2.06-2.06.94zm10 10l.94 2.06.94-2.06 2.06-.94-2.06-.94-.94-2.06-.94 2.06-2.06.94z\"/><path d=\"M17.41 7.96l-1.37-1.37c-.4-.4-.92-.59-1.43-.59-.52 0-1.04.2-1.43.59L10.3 9.45l-7.72 7.72c-.78.78-.78 2.05 0 2.83L4 21.41c.39.39.9.59 1.41.59.51 0 1.02-.2 1.41-.59l7.78-7.78 2.81-2.81c.8-.78.8-2.07 0-2.86zM5.41 20L4 18.59l7.72-7.72 1.47 1.35L5.41 20z\"/>\n",
              "  </svg>\n",
              "      </button>\n",
              "      \n",
              "  <style>\n",
              "    .colab-df-container {\n",
              "      display:flex;\n",
              "      flex-wrap:wrap;\n",
              "      gap: 12px;\n",
              "    }\n",
              "\n",
              "    .colab-df-convert {\n",
              "      background-color: #E8F0FE;\n",
              "      border: none;\n",
              "      border-radius: 50%;\n",
              "      cursor: pointer;\n",
              "      display: none;\n",
              "      fill: #1967D2;\n",
              "      height: 32px;\n",
              "      padding: 0 0 0 0;\n",
              "      width: 32px;\n",
              "    }\n",
              "\n",
              "    .colab-df-convert:hover {\n",
              "      background-color: #E2EBFA;\n",
              "      box-shadow: 0px 1px 2px rgba(60, 64, 67, 0.3), 0px 1px 3px 1px rgba(60, 64, 67, 0.15);\n",
              "      fill: #174EA6;\n",
              "    }\n",
              "\n",
              "    [theme=dark] .colab-df-convert {\n",
              "      background-color: #3B4455;\n",
              "      fill: #D2E3FC;\n",
              "    }\n",
              "\n",
              "    [theme=dark] .colab-df-convert:hover {\n",
              "      background-color: #434B5C;\n",
              "      box-shadow: 0px 1px 3px 1px rgba(0, 0, 0, 0.15);\n",
              "      filter: drop-shadow(0px 1px 2px rgba(0, 0, 0, 0.3));\n",
              "      fill: #FFFFFF;\n",
              "    }\n",
              "  </style>\n",
              "\n",
              "      <script>\n",
              "        const buttonEl =\n",
              "          document.querySelector('#df-86307560-ca31-4bef-8f41-dea7e3699996 button.colab-df-convert');\n",
              "        buttonEl.style.display =\n",
              "          google.colab.kernel.accessAllowed ? 'block' : 'none';\n",
              "\n",
              "        async function convertToInteractive(key) {\n",
              "          const element = document.querySelector('#df-86307560-ca31-4bef-8f41-dea7e3699996');\n",
              "          const dataTable =\n",
              "            await google.colab.kernel.invokeFunction('convertToInteractive',\n",
              "                                                     [key], {});\n",
              "          if (!dataTable) return;\n",
              "\n",
              "          const docLinkHtml = 'Like what you see? Visit the ' +\n",
              "            '<a target=\"_blank\" href=https://colab.research.google.com/notebooks/data_table.ipynb>data table notebook</a>'\n",
              "            + ' to learn more about interactive tables.';\n",
              "          element.innerHTML = '';\n",
              "          dataTable['output_type'] = 'display_data';\n",
              "          await google.colab.output.renderOutput(dataTable, element);\n",
              "          const docLink = document.createElement('div');\n",
              "          docLink.innerHTML = docLinkHtml;\n",
              "          element.appendChild(docLink);\n",
              "        }\n",
              "      </script>\n",
              "    </div>\n",
              "  </div>\n",
              "  "
            ],
            "text/plain": [
              "           Hours     Scores\n",
              "count  25.000000  25.000000\n",
              "mean    5.012000  51.480000\n",
              "std     2.525094  25.286887\n",
              "min     1.100000  17.000000\n",
              "25%     2.700000  30.000000\n",
              "50%     4.800000  47.000000\n",
              "75%     7.400000  75.000000\n",
              "max     9.200000  95.000000"
            ]
          },
          "metadata": {},
          "execution_count": 6
        }
      ]
    },
    {
      "cell_type": "code",
      "source": [
        "sns.boxplot(df[\"Hours\"])"
      ],
      "metadata": {
        "colab": {
          "base_uri": "https://localhost:8080/",
          "height": 296
        },
        "id": "JaFab9d4mLtE",
        "outputId": "444044a6-975f-4be3-b8f1-96713834940b"
      },
      "execution_count": 7,
      "outputs": [
        {
          "output_type": "execute_result",
          "data": {
            "text/plain": [
              "<matplotlib.axes._subplots.AxesSubplot at 0x7f40424d5f90>"
            ]
          },
          "metadata": {},
          "execution_count": 7
        },
        {
          "output_type": "display_data",
          "data": {
            "image/png": "[encoded data removed]",
            "text/plain": [
              "<Figure size 432x288 with 1 Axes>"
            ]
          },
          "metadata": {
            "needs_background": "light"
          }
        }
      ]
    },
    {
      "cell_type": "markdown",
      "source": [
        "### <font color=\"purple\">2.Split the data into train and test<font>"
      ],
      "metadata": {
        "id": "hnweGvOyDmCV"
      }
    },
    {
      "cell_type": "code",
      "source": [
        "## two ways to split the data \n",
        "## 1 .sklearn\n",
        "## 2. numpy\n",
        "from sklearn.model_selection import train_test_split as model"
      ],
      "metadata": {
        "id": "84hhEiMfDKJN"
      },
      "execution_count": 8,
      "outputs": []
    },
    {
      "cell_type": "markdown",
      "source": [
        "### <font color=\"purple\">2.1 Use all dataset observations for traing the model because of we have low volume of data</font>"
      ],
      "metadata": {
        "id": "Vr7GbHi8E0tW"
      }
    },
    {
      "cell_type": "code",
      "source": [
        "###  find out cols \n",
        "df.columns "
      ],
      "metadata": {
        "colab": {
          "base_uri": "https://localhost:8080/"
        },
        "id": "4bEJO-7MEs6Z",
        "outputId": "05931134-cb79-4e9a-d7b9-918fbdf02af4"
      },
      "execution_count": 9,
      "outputs": [
        {
          "output_type": "execute_result",
          "data": {
            "text/plain": [
              "Index(['Hours', 'Scores'], dtype='object')"
            ]
          },
          "metadata": {},
          "execution_count": 9
        }
      ]
    },
    {
      "cell_type": "markdown",
      "source": [
        "### <font color=\"purple\">2.2 Creates the feature and target sets as well as"
      ],
      "metadata": {
        "id": "Al5Irkw4wjCO"
      }
    },
    {
      "cell_type": "code",
      "source": [
        "features=df[[\"Hours\"]]\n",
        "target=df[[\"Scores\"]]"
      ],
      "metadata": {
        "id": "Hu5zEZSrrk1X"
      },
      "execution_count": 10,
      "outputs": []
    },
    {
      "cell_type": "markdown",
      "source": [
        "## <font color=\"purple\">3.3 Creates the object for LR Model </font>"
      ],
      "metadata": {
        "id": "sWhCGg_OwwcO"
      }
    },
    {
      "cell_type": "code",
      "source": [
        "lr=LinearRegression()\n",
        "trained_model=lr.fit(features,target)"
      ],
      "metadata": {
        "id": "o6zetammrthF"
      },
      "execution_count": 11,
      "outputs": []
    },
    {
      "cell_type": "markdown",
      "source": [
        "### <font color=\"purple\">3.4 Applies prediction on the train set </font>"
      ],
      "metadata": {
        "id": "DC6qlDNIw57l"
      }
    },
    {
      "cell_type": "code",
      "source": [
        "pre_seen_data=trained_model.predict(features)"
      ],
      "metadata": {
        "id": "1PrHIt6kr5Sc"
      },
      "execution_count": 12,
      "outputs": []
    },
    {
      "cell_type": "code",
      "source": [
        "## Lets Explore Through charts "
      ],
      "metadata": {
        "id": "3AIp1FVFr8hy"
      },
      "execution_count": 13,
      "outputs": []
    },
    {
      "cell_type": "code",
      "source": [
        "sns.regplot(features,pre_seen_data)\n",
        "plt.title(\"This plot show how much variannce between trained and predicted data\",fontdict={\"color\":\"orange\"})\n",
        "plt.xlabel(\"Hours\",fontdict={\"color\":\"purple\"})\n",
        "plt.ylabel(\"Scores\",fontdict={\"color\":\"purple\"})\n",
        "plt.show()\n",
        "plt.show()"
      ],
      "metadata": {
        "colab": {
          "base_uri": "https://localhost:8080/",
          "height": 295
        },
        "id": "Np1fX2DvsGuF",
        "outputId": "80d11122-28bd-49c3-c778-3c5cfdd7d92b"
      },
      "execution_count": 14,
      "outputs": [
        {
          "output_type": "display_data",
          "data": {
            "image/png": "[encoded data removed]",
            "text/plain": [
              "<Figure size 432x288 with 1 Axes>"
            ]
          },
          "metadata": {
            "needs_background": "light"
          }
        }
      ]
    },
    {
      "cell_type": "markdown",
      "source": [
        "##<font color=\"purple\"> Lets displays the slope ans coeff of the model</font>"
      ],
      "metadata": {
        "id": "EqGpv4PLswSn"
      }
    },
    {
      "cell_type": "code",
      "source": [
        "trained_model.coef_ "
      ],
      "metadata": {
        "colab": {
          "base_uri": "https://localhost:8080/"
        },
        "id": "Nt-uW4YbsONz",
        "outputId": "162f613f-d88c-4c52-a212-050285c7eeec"
      },
      "execution_count": 15,
      "outputs": [
        {
          "output_type": "execute_result",
          "data": {
            "text/plain": [
              "array([[9.77580339]])"
            ]
          },
          "metadata": {},
          "execution_count": 15
        }
      ]
    },
    {
      "cell_type": "code",
      "source": [
        "trained_model.intercept_"
      ],
      "metadata": {
        "colab": {
          "base_uri": "https://localhost:8080/"
        },
        "id": "QjRrHsn6tCOe",
        "outputId": "fcbe20ac-fca1-4422-c584-161b7c8296a6"
      },
      "execution_count": 16,
      "outputs": [
        {
          "output_type": "execute_result",
          "data": {
            "text/plain": [
              "array([2.48367341])"
            ]
          },
          "metadata": {},
          "execution_count": 16
        }
      ]
    },
    {
      "cell_type": "markdown",
      "source": [
        "## <font color=\"red\">Predict the percentage on the 9.25 hours</font>"
      ],
      "metadata": {
        "id": "VsDhEhGvxP28"
      }
    },
    {
      "cell_type": "code",
      "source": [
        "trained_model.predict([[9.25]])"
      ],
      "metadata": {
        "colab": {
          "base_uri": "https://localhost:8080/"
        },
        "id": "9NHD225EtLfR",
        "outputId": "3b095182-b16f-4858-977e-38d268339508"
      },
      "execution_count": 17,
      "outputs": [
        {
          "output_type": "execute_result",
          "data": {
            "text/plain": [
              "array([[92.90985477]])"
            ]
          },
          "metadata": {},
          "execution_count": 17
        }
      ]
    },
    {
      "cell_type": "code",
      "source": [
        "trained_model.intercept_+9.25*trained_model.coef_"
      ],
      "metadata": {
        "colab": {
          "base_uri": "https://localhost:8080/"
        },
        "id": "EyPqkKLNtfB7",
        "outputId": "27636b86-bfe1-4cf6-a6f1-fcdd6eed633e"
      },
      "execution_count": 18,
      "outputs": [
        {
          "output_type": "execute_result",
          "data": {
            "text/plain": [
              "array([[92.90985477]])"
            ]
          },
          "metadata": {},
          "execution_count": 18
        }
      ]
    },
    {
      "cell_type": "markdown",
      "source": [
        "## <font color=\"magenta\">Way-2 using sklearn train_test_split"
      ],
      "metadata": {
        "id": "9u9J7MAsuWAS"
      }
    },
    {
      "cell_type": "code",
      "source": [
        "x_train,x_test,y_train,y_test=model(features,target,random_state=100)"
      ],
      "metadata": {
        "id": "IxTjQkHYuR-I"
      },
      "execution_count": 19,
      "outputs": []
    },
    {
      "cell_type": "code",
      "source": [
        "lr.fit(x_train,y_train)"
      ],
      "metadata": {
        "colab": {
          "base_uri": "https://localhost:8080/"
        },
        "id": "oMu6ZzraulG4",
        "outputId": "ad14b111-5b67-4df9-f811-2c03c8ca23a0"
      },
      "execution_count": 20,
      "outputs": [
        {
          "output_type": "execute_result",
          "data": {
            "text/plain": [
              "LinearRegression()"
            ]
          },
          "metadata": {},
          "execution_count": 20
        }
      ]
    },
    {
      "cell_type": "code",
      "source": [
        "pre_train=lr.predict(x_train)"
      ],
      "metadata": {
        "id": "EB3xnZucuwBz"
      },
      "execution_count": 21,
      "outputs": []
    },
    {
      "cell_type": "code",
      "source": [
        "pre_train "
      ],
      "metadata": {
        "colab": {
          "base_uri": "https://localhost:8080/"
        },
        "id": "BvM6Yh_6vOgC",
        "outputId": "37f5b956-6f0d-41df-acd1-2c4583b8cb32"
      },
      "execution_count": 22,
      "outputs": [
        {
          "output_type": "execute_result",
          "data": {
            "text/plain": [
              "array([[49.17105214],\n",
              "       [92.52952108],\n",
              "       [46.2147929 ],\n",
              "       [36.36059541],\n",
              "       [78.7336446 ],\n",
              "       [26.50639793],\n",
              "       [52.12731139],\n",
              "       [28.47723743],\n",
              "       [12.71052145],\n",
              "       [20.59387944],\n",
              "       [61.98150888],\n",
              "       [33.40433617],\n",
              "       [77.74822485],\n",
              "       [26.50639793],\n",
              "       [89.57326183],\n",
              "       [56.06899038],\n",
              "       [85.63158284],\n",
              "       [83.66074334]])"
            ]
          },
          "metadata": {},
          "execution_count": 22
        }
      ]
    },
    {
      "cell_type": "code",
      "source": [
        "sns.regplot(y_train,pre_train)\n",
        "plt.title(\"Plot the orginal train vs predicted train\",fontdict={\"color\":\"orange\"})\n",
        "plt.xlabel(\"orginal train data\",fontdict={\"color\":\"purple\"})\n",
        "plt.ylabel(\"predicted train\",fontdict={\"color\":\"purple\"})\n",
        "plt.show()"
      ],
      "metadata": {
        "colab": {
          "base_uri": "https://localhost:8080/",
          "height": 295
        },
        "id": "bGhDDSUhvRy-",
        "outputId": "e146e80b-d7d2-403a-b657-a03f0a38c183"
      },
      "execution_count": 23,
      "outputs": [
        {
          "output_type": "display_data",
          "data": {
            "image/png": "[encoded data removed]",
            "text/plain": [
              "<Figure size 432x288 with 1 Axes>"
            ]
          },
          "metadata": {
            "needs_background": "light"
          }
        }
      ]
    },
    {
      "cell_type": "code",
      "source": [
        "pre_test=lr.predict(x_test)"
      ],
      "metadata": {
        "id": "x481Y-AIv24L"
      },
      "execution_count": 24,
      "outputs": []
    },
    {
      "cell_type": "code",
      "source": [
        "sns.regplot(x_test,pre_test)\n",
        "plt.title(\"Plot the orginal test vs predicted test\",fontdict={\"color\":\"orange\"})\n",
        "plt.xlabel(\"orginal test data\",fontdict={\"color\":\"purple\"})\n",
        "plt.ylabel(\"predicted test\",fontdict={\"color\":\"purple\"})\n",
        "plt.show()"
      ],
      "metadata": {
        "colab": {
          "base_uri": "https://localhost:8080/",
          "height": 295
        },
        "id": "uUX-g0bsvaFr",
        "outputId": "9789339f-22e1-4951-90de-5e163d635183"
      },
      "execution_count": 25,
      "outputs": [
        {
          "output_type": "display_data",
          "data": {
            "image/png": "[encoded data removed]",
            "text/plain": [
              "<Figure size 432x288 with 1 Axes>"
            ]
          },
          "metadata": {
            "needs_background": "light"
          }
        }
      ]
    },
    {
      "cell_type": "code",
      "source": [
        "lr.coef_"
      ],
      "metadata": {
        "colab": {
          "base_uri": "https://localhost:8080/"
        },
        "id": "_8Y6YgGRwPTQ",
        "outputId": "1391c985-6723-4b2d-a9ff-3fd4a87ae176"
      },
      "execution_count": 26,
      "outputs": [
        {
          "output_type": "execute_result",
          "data": {
            "text/plain": [
              "array([[9.85419749]])"
            ]
          },
          "metadata": {},
          "execution_count": 26
        }
      ]
    },
    {
      "cell_type": "code",
      "source": [
        "lr.intercept_"
      ],
      "metadata": {
        "colab": {
          "base_uri": "https://localhost:8080/"
        },
        "id": "r-Yb8BUKwTYE",
        "outputId": "f1141051-19ee-476b-d042-efa72b6ed528"
      },
      "execution_count": 27,
      "outputs": [
        {
          "output_type": "execute_result",
          "data": {
            "text/plain": [
              "array([1.87090422])"
            ]
          },
          "metadata": {},
          "execution_count": 27
        }
      ]
    },
    {
      "cell_type": "markdown",
      "source": [
        "## <font color=\"red\">Prediction using train_test_split in sklearn </font>"
      ],
      "metadata": {
        "id": "qO0HNmOpxeCS"
      }
    },
    {
      "cell_type": "code",
      "source": [
        "lr.predict([[9.25]])"
      ],
      "metadata": {
        "colab": {
          "base_uri": "https://localhost:8080/"
        },
        "id": "HnuMV5uuwXW-",
        "outputId": "8e2359f8-33be-4b96-b372-76e778f7c3ea"
      },
      "execution_count": 28,
      "outputs": [
        {
          "output_type": "execute_result",
          "data": {
            "text/plain": [
              "array([[93.02223095]])"
            ]
          },
          "metadata": {},
          "execution_count": 28
        }
      ]
    },
    {
      "cell_type": "markdown",
      "source": [
        "## <font color=\"green\">**Model** Evaluation "
      ],
      "metadata": {
        "id": "O493JBTYiH7r"
      }
    },
    {
      "cell_type": "code",
      "source": [
        "from sklearn.metrics import mean_squared_error,r2_score\n",
        "mean_squared_error(y_test,pre_test)"
      ],
      "metadata": {
        "colab": {
          "base_uri": "https://localhost:8080/"
        },
        "id": "cb21N3XmiLLV",
        "outputId": "f68f0fe5-83dd-4483-a17f-2cc09dcd7801"
      },
      "execution_count": 29,
      "outputs": [
        {
          "output_type": "execute_result",
          "data": {
            "text/plain": [
              "24.999164520709222"
            ]
          },
          "metadata": {},
          "execution_count": 29
        }
      ]
    },
    {
      "cell_type": "code",
      "source": [
        "r2_score(y_test,pre_test)"
      ],
      "metadata": {
        "colab": {
          "base_uri": "https://localhost:8080/"
        },
        "id": "R7bSGUPLikAV",
        "outputId": "6d6e8e7f-3fe0-457c-9654-223f0cc89959"
      },
      "execution_count": 31,
      "outputs": [
        {
          "output_type": "execute_result",
          "data": {
            "text/plain": [
              "0.9403157736545141"
            ]
          },
          "metadata": {},
          "execution_count": 31
        }
      ]
    },
    {
      "cell_type": "code",
      "source": [
        ""
      ],
      "metadata": {
        "id": "1NnJyihRi0Sk"
      },
      "execution_count": null,
      "outputs": []
    }
  ]
}